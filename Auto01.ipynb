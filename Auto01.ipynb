{
 "cells": [
  {
   "cell_type": "markdown",
   "metadata": {},
   "source": [
    "Primer ejercicio para regresión lineal múltiple"
   ]
  },
  {
   "cell_type": "code",
   "execution_count": 113,
   "metadata": {},
   "outputs": [],
   "source": [
    "# cargamos las librerías básicas\n",
    "import numpy as np\n",
    "import pandas as pd"
   ]
  },
  {
   "cell_type": "code",
   "execution_count": 114,
   "metadata": {},
   "outputs": [],
   "source": [
    "# cargamos el archivo csv a depurar\n",
    "df = pd.read_csv(\"cars_dataset.csv\")"
   ]
  },
  {
   "cell_type": "code",
   "execution_count": 115,
   "metadata": {},
   "outputs": [
    {
     "data": {
      "application/vnd.microsoft.datawrangler.viewer.v0+json": {
       "columns": [
        {
         "name": "index",
         "rawType": "int64",
         "type": "integer"
        },
        {
         "name": "model",
         "rawType": "object",
         "type": "string"
        },
        {
         "name": "year",
         "rawType": "int64",
         "type": "integer"
        },
        {
         "name": "price",
         "rawType": "int64",
         "type": "integer"
        },
        {
         "name": "transmission",
         "rawType": "object",
         "type": "string"
        },
        {
         "name": "mileage",
         "rawType": "int64",
         "type": "integer"
        },
        {
         "name": "fuelType",
         "rawType": "object",
         "type": "string"
        },
        {
         "name": "tax",
         "rawType": "float64",
         "type": "float"
        },
        {
         "name": "mpg",
         "rawType": "float64",
         "type": "float"
        },
        {
         "name": "engineSize",
         "rawType": "float64",
         "type": "float"
        },
        {
         "name": "Make",
         "rawType": "object",
         "type": "string"
        }
       ],
       "conversionMethod": "pd.DataFrame",
       "ref": "b6c0d5b1-9694-4a1a-9052-dfcd02cc2efc",
       "rows": [
        [
         "0",
         " A1",
         "2017",
         "12500",
         "Manual",
         "15735",
         "Petrol",
         "150.0",
         "55.4",
         "1.4",
         "audi"
        ],
        [
         "1",
         " A6",
         "2016",
         "16500",
         "Automatic",
         "36203",
         "Diesel",
         "20.0",
         "64.2",
         "2.0",
         "audi"
        ],
        [
         "2",
         " A1",
         "2016",
         "11000",
         "Manual",
         "29946",
         "Petrol",
         "30.0",
         "55.4",
         "1.4",
         "audi"
        ],
        [
         "3",
         " A4",
         "2017",
         "16800",
         "Automatic",
         "25952",
         "Diesel",
         "145.0",
         "67.3",
         "2.0",
         "audi"
        ],
        [
         "4",
         " A3",
         "2019",
         "17300",
         "Manual",
         "1998",
         "Petrol",
         "145.0",
         "49.6",
         "1.0",
         "audi"
        ],
        [
         "5",
         " A1",
         "2016",
         "13900",
         "Automatic",
         "32260",
         "Petrol",
         "30.0",
         "58.9",
         "1.4",
         "audi"
        ],
        [
         "6",
         " A6",
         "2016",
         "13250",
         "Automatic",
         "76788",
         "Diesel",
         "30.0",
         "61.4",
         "2.0",
         "audi"
        ],
        [
         "7",
         " A4",
         "2016",
         "11750",
         "Manual",
         "75185",
         "Diesel",
         "20.0",
         "70.6",
         "2.0",
         "audi"
        ],
        [
         "8",
         " A3",
         "2015",
         "10200",
         "Manual",
         "46112",
         "Petrol",
         "20.0",
         "60.1",
         "1.4",
         "audi"
        ],
        [
         "9",
         " A1",
         "2016",
         "12000",
         "Manual",
         "22451",
         "Petrol",
         "30.0",
         "55.4",
         "1.4",
         "audi"
        ],
        [
         "10",
         " A3",
         "2017",
         "16100",
         "Manual",
         "28955",
         "Petrol",
         "145.0",
         "58.9",
         "1.4",
         "audi"
        ],
        [
         "11",
         " A6",
         "2016",
         "16500",
         "Automatic",
         "52198",
         "Diesel",
         "125.0",
         "57.6",
         "2.0",
         "audi"
        ],
        [
         "12",
         " Q3",
         "2016",
         "17000",
         "Manual",
         "44915",
         "Diesel",
         "145.0",
         "52.3",
         "2.0",
         "audi"
        ],
        [
         "13",
         " A3",
         "2017",
         "16400",
         "Manual",
         "21695",
         "Petrol",
         "30.0",
         "58.9",
         "1.4",
         "audi"
        ],
        [
         "14",
         " A6",
         "2015",
         "15400",
         "Manual",
         "47348",
         "Diesel",
         "30.0",
         "61.4",
         "2.0",
         "audi"
        ],
        [
         "15",
         " A3",
         "2017",
         "14500",
         "Automatic",
         "26156",
         "Petrol",
         "145.0",
         "58.9",
         "1.4",
         "audi"
        ],
        [
         "16",
         " Q3",
         "2016",
         "15700",
         "Automatic",
         "28396",
         "Diesel",
         "145.0",
         "53.3",
         "2.0",
         "audi"
        ],
        [
         "17",
         " A3",
         "2014",
         "13900",
         "Automatic",
         "30516",
         "Petrol",
         "30.0",
         "56.5",
         "1.4",
         "audi"
        ],
        [
         "18",
         " Q5",
         "2016",
         "19000",
         "Automatic",
         "37652",
         "Diesel",
         "200.0",
         "47.1",
         "2.0",
         "audi"
        ],
        [
         "19",
         " Q3",
         "2014",
         "17000",
         "Manual",
         "34110",
         "Petrol",
         "145.0",
         "47.9",
         "1.4",
         "audi"
        ],
        [
         "20",
         " A5",
         "2017",
         "17300",
         "Automatic",
         "37100",
         "Diesel",
         "145.0",
         "67.3",
         "2.0",
         "audi"
        ],
        [
         "21",
         " Q5",
         "2016",
         "20200",
         "Automatic",
         "23714",
         "Diesel",
         "200.0",
         "47.1",
         "2.0",
         "audi"
        ],
        [
         "22",
         " A5",
         "2017",
         "22500",
         "Automatic",
         "21649",
         "Diesel",
         "145.0",
         "58.9",
         "3.0",
         "audi"
        ],
        [
         "23",
         " A6",
         "2015",
         "17500",
         "Automatic",
         "62748",
         "Diesel",
         "150.0",
         "53.3",
         "3.0",
         "audi"
        ],
        [
         "24",
         " Q5",
         "2016",
         "20000",
         "Automatic",
         "23789",
         "Diesel",
         "200.0",
         "47.1",
         "2.0",
         "audi"
        ],
        [
         "25",
         " A4",
         "2017",
         "18500",
         "Automatic",
         "17418",
         "Diesel",
         "145.0",
         "62.8",
         "2.0",
         "audi"
        ],
        [
         "26",
         " A5",
         "2017",
         "19500",
         "Automatic",
         "33300",
         "Diesel",
         "145.0",
         "61.4",
         "2.0",
         "audi"
        ],
        [
         "27",
         " A1",
         "2018",
         "15800",
         "Manual",
         "10793",
         "Petrol",
         "145.0",
         "56.5",
         "1.4",
         "audi"
        ],
        [
         "28",
         " A4",
         "2018",
         "17200",
         "Automatic",
         "25138",
         "Diesel",
         "145.0",
         "70.6",
         "2.0",
         "audi"
        ],
        [
         "29",
         " A6",
         "2015",
         "14000",
         "Manual",
         "61176",
         "Diesel",
         "30.0",
         "62.8",
         "2.0",
         "audi"
        ],
        [
         "30",
         " A1",
         "2015",
         "9500",
         "Automatic",
         "54754",
         "Diesel",
         "0.0",
         "76.3",
         "1.6",
         "audi"
        ],
        [
         "31",
         " Q3",
         "2017",
         "16500",
         "Manual",
         "21369",
         "Petrol",
         "125.0",
         "51.4",
         "1.4",
         "audi"
        ],
        [
         "32",
         " Q3",
         "2014",
         "15000",
         "Automatic",
         "39190",
         "Diesel",
         "205.0",
         "47.9",
         "2.0",
         "audi"
        ],
        [
         "33",
         " Q3",
         "2017",
         "16000",
         "Automatic",
         "47482",
         "Petrol",
         "150.0",
         "47.9",
         "1.4",
         "audi"
        ],
        [
         "34",
         " Q3",
         "2016",
         "16900",
         "Automatic",
         "40501",
         "Diesel",
         "150.0",
         "51.4",
         "2.0",
         "audi"
        ],
        [
         "35",
         " Q3",
         "2014",
         "12300",
         "Automatic",
         "43195",
         "Diesel",
         "200.0",
         "47.9",
         "2.0",
         "audi"
        ],
        [
         "36",
         " A1",
         "2017",
         "10800",
         "Manual",
         "31447",
         "Petrol",
         "145.0",
         "67.3",
         "1.0",
         "audi"
        ],
        [
         "37",
         " A6",
         "2016",
         "19400",
         "Automatic",
         "34030",
         "Diesel",
         "125.0",
         "58.9",
         "2.0",
         "audi"
        ],
        [
         "38",
         " A4",
         "2017",
         "16000",
         "Manual",
         "29063",
         "Diesel",
         "145.0",
         "70.6",
         "2.0",
         "audi"
        ],
        [
         "39",
         " A3",
         "2017",
         "17100",
         "Manual",
         "29545",
         "Diesel",
         "145.0",
         "65.7",
         "2.0",
         "audi"
        ],
        [
         "40",
         " A3",
         "2015",
         "11300",
         "Manual",
         "75619",
         "Diesel",
         "20.0",
         "68.9",
         "2.0",
         "audi"
        ],
        [
         "41",
         " Q3",
         "2016",
         "17200",
         "Automatic",
         "39603",
         "Diesel",
         "160.0",
         "50.4",
         "2.0",
         "audi"
        ],
        [
         "42",
         " Q3",
         "2017",
         "20300",
         "Automatic",
         "42908",
         "Diesel",
         "145.0",
         "51.4",
         "2.0",
         "audi"
        ],
        [
         "43",
         " A5",
         "2014",
         "13200",
         "Automatic",
         "83872",
         "Diesel",
         "125.0",
         "58.9",
         "2.0",
         "audi"
        ],
        [
         "44",
         " Q3",
         "2016",
         "15200",
         "Automatic",
         "58750",
         "Petrol",
         "145.0",
         "47.9",
         "1.4",
         "audi"
        ],
        [
         "45",
         " A3",
         "2019",
         "15700",
         "Manual",
         "2029",
         "Petrol",
         "145.0",
         "49.6",
         "1.0",
         "audi"
        ],
        [
         "46",
         " A6",
         "2018",
         "16600",
         "Automatic",
         "22958",
         "Petrol",
         "145.0",
         "50.4",
         "1.8",
         "audi"
        ],
        [
         "47",
         " A4",
         "2017",
         "14400",
         "Automatic",
         "32097",
         "Diesel",
         "145.0",
         "72.4",
         "2.0",
         "audi"
        ],
        [
         "48",
         " A5",
         "2017",
         "20200",
         "Automatic",
         "13057",
         "Petrol",
         "145.0",
         "53.3",
         "2.0",
         "audi"
        ],
        [
         "49",
         " S4",
         "2017",
         "23700",
         "Automatic",
         "20278",
         "Petrol",
         "145.0",
         "38.7",
         "3.0",
         "audi"
        ]
       ],
       "shape": {
        "columns": 10,
        "rows": 72435
       }
      },
      "text/html": [
       "<div>\n",
       "<style scoped>\n",
       "    .dataframe tbody tr th:only-of-type {\n",
       "        vertical-align: middle;\n",
       "    }\n",
       "\n",
       "    .dataframe tbody tr th {\n",
       "        vertical-align: top;\n",
       "    }\n",
       "\n",
       "    .dataframe thead th {\n",
       "        text-align: right;\n",
       "    }\n",
       "</style>\n",
       "<table border=\"1\" class=\"dataframe\">\n",
       "  <thead>\n",
       "    <tr style=\"text-align: right;\">\n",
       "      <th></th>\n",
       "      <th>model</th>\n",
       "      <th>year</th>\n",
       "      <th>price</th>\n",
       "      <th>transmission</th>\n",
       "      <th>mileage</th>\n",
       "      <th>fuelType</th>\n",
       "      <th>tax</th>\n",
       "      <th>mpg</th>\n",
       "      <th>engineSize</th>\n",
       "      <th>Make</th>\n",
       "    </tr>\n",
       "  </thead>\n",
       "  <tbody>\n",
       "    <tr>\n",
       "      <th>0</th>\n",
       "      <td>A1</td>\n",
       "      <td>2017</td>\n",
       "      <td>12500</td>\n",
       "      <td>Manual</td>\n",
       "      <td>15735</td>\n",
       "      <td>Petrol</td>\n",
       "      <td>150.0</td>\n",
       "      <td>55.4</td>\n",
       "      <td>1.4</td>\n",
       "      <td>audi</td>\n",
       "    </tr>\n",
       "    <tr>\n",
       "      <th>1</th>\n",
       "      <td>A6</td>\n",
       "      <td>2016</td>\n",
       "      <td>16500</td>\n",
       "      <td>Automatic</td>\n",
       "      <td>36203</td>\n",
       "      <td>Diesel</td>\n",
       "      <td>20.0</td>\n",
       "      <td>64.2</td>\n",
       "      <td>2.0</td>\n",
       "      <td>audi</td>\n",
       "    </tr>\n",
       "    <tr>\n",
       "      <th>2</th>\n",
       "      <td>A1</td>\n",
       "      <td>2016</td>\n",
       "      <td>11000</td>\n",
       "      <td>Manual</td>\n",
       "      <td>29946</td>\n",
       "      <td>Petrol</td>\n",
       "      <td>30.0</td>\n",
       "      <td>55.4</td>\n",
       "      <td>1.4</td>\n",
       "      <td>audi</td>\n",
       "    </tr>\n",
       "    <tr>\n",
       "      <th>3</th>\n",
       "      <td>A4</td>\n",
       "      <td>2017</td>\n",
       "      <td>16800</td>\n",
       "      <td>Automatic</td>\n",
       "      <td>25952</td>\n",
       "      <td>Diesel</td>\n",
       "      <td>145.0</td>\n",
       "      <td>67.3</td>\n",
       "      <td>2.0</td>\n",
       "      <td>audi</td>\n",
       "    </tr>\n",
       "    <tr>\n",
       "      <th>4</th>\n",
       "      <td>A3</td>\n",
       "      <td>2019</td>\n",
       "      <td>17300</td>\n",
       "      <td>Manual</td>\n",
       "      <td>1998</td>\n",
       "      <td>Petrol</td>\n",
       "      <td>145.0</td>\n",
       "      <td>49.6</td>\n",
       "      <td>1.0</td>\n",
       "      <td>audi</td>\n",
       "    </tr>\n",
       "    <tr>\n",
       "      <th>...</th>\n",
       "      <td>...</td>\n",
       "      <td>...</td>\n",
       "      <td>...</td>\n",
       "      <td>...</td>\n",
       "      <td>...</td>\n",
       "      <td>...</td>\n",
       "      <td>...</td>\n",
       "      <td>...</td>\n",
       "      <td>...</td>\n",
       "      <td>...</td>\n",
       "    </tr>\n",
       "    <tr>\n",
       "      <th>72430</th>\n",
       "      <td>I30</td>\n",
       "      <td>2016</td>\n",
       "      <td>8680</td>\n",
       "      <td>Manual</td>\n",
       "      <td>25906</td>\n",
       "      <td>Diesel</td>\n",
       "      <td>0.0</td>\n",
       "      <td>78.4</td>\n",
       "      <td>1.6</td>\n",
       "      <td>Hyundai</td>\n",
       "    </tr>\n",
       "    <tr>\n",
       "      <th>72431</th>\n",
       "      <td>I40</td>\n",
       "      <td>2015</td>\n",
       "      <td>7830</td>\n",
       "      <td>Manual</td>\n",
       "      <td>59508</td>\n",
       "      <td>Diesel</td>\n",
       "      <td>30.0</td>\n",
       "      <td>65.7</td>\n",
       "      <td>1.7</td>\n",
       "      <td>Hyundai</td>\n",
       "    </tr>\n",
       "    <tr>\n",
       "      <th>72432</th>\n",
       "      <td>I10</td>\n",
       "      <td>2017</td>\n",
       "      <td>6830</td>\n",
       "      <td>Manual</td>\n",
       "      <td>13810</td>\n",
       "      <td>Petrol</td>\n",
       "      <td>20.0</td>\n",
       "      <td>60.1</td>\n",
       "      <td>1.0</td>\n",
       "      <td>Hyundai</td>\n",
       "    </tr>\n",
       "    <tr>\n",
       "      <th>72433</th>\n",
       "      <td>Tucson</td>\n",
       "      <td>2018</td>\n",
       "      <td>13994</td>\n",
       "      <td>Manual</td>\n",
       "      <td>23313</td>\n",
       "      <td>Petrol</td>\n",
       "      <td>145.0</td>\n",
       "      <td>44.8</td>\n",
       "      <td>1.6</td>\n",
       "      <td>Hyundai</td>\n",
       "    </tr>\n",
       "    <tr>\n",
       "      <th>72434</th>\n",
       "      <td>Tucson</td>\n",
       "      <td>2016</td>\n",
       "      <td>15999</td>\n",
       "      <td>Automatic</td>\n",
       "      <td>11472</td>\n",
       "      <td>Diesel</td>\n",
       "      <td>125.0</td>\n",
       "      <td>57.6</td>\n",
       "      <td>1.7</td>\n",
       "      <td>Hyundai</td>\n",
       "    </tr>\n",
       "  </tbody>\n",
       "</table>\n",
       "<p>72435 rows × 10 columns</p>\n",
       "</div>"
      ],
      "text/plain": [
       "         model  year  price transmission  mileage fuelType    tax   mpg  \\\n",
       "0           A1  2017  12500       Manual    15735   Petrol  150.0  55.4   \n",
       "1           A6  2016  16500    Automatic    36203   Diesel   20.0  64.2   \n",
       "2           A1  2016  11000       Manual    29946   Petrol   30.0  55.4   \n",
       "3           A4  2017  16800    Automatic    25952   Diesel  145.0  67.3   \n",
       "4           A3  2019  17300       Manual     1998   Petrol  145.0  49.6   \n",
       "...        ...   ...    ...          ...      ...      ...    ...   ...   \n",
       "72430      I30  2016   8680       Manual    25906   Diesel    0.0  78.4   \n",
       "72431      I40  2015   7830       Manual    59508   Diesel   30.0  65.7   \n",
       "72432      I10  2017   6830       Manual    13810   Petrol   20.0  60.1   \n",
       "72433   Tucson  2018  13994       Manual    23313   Petrol  145.0  44.8   \n",
       "72434   Tucson  2016  15999    Automatic    11472   Diesel  125.0  57.6   \n",
       "\n",
       "       engineSize     Make  \n",
       "0             1.4     audi  \n",
       "1             2.0     audi  \n",
       "2             1.4     audi  \n",
       "3             2.0     audi  \n",
       "4             1.0     audi  \n",
       "...           ...      ...  \n",
       "72430         1.6  Hyundai  \n",
       "72431         1.7  Hyundai  \n",
       "72432         1.0  Hyundai  \n",
       "72433         1.6  Hyundai  \n",
       "72434         1.7  Hyundai  \n",
       "\n",
       "[72435 rows x 10 columns]"
      ]
     },
     "execution_count": 115,
     "metadata": {},
     "output_type": "execute_result"
    }
   ],
   "source": [
    "#revisamos el dataframe \n",
    "df"
   ]
  },
  {
   "cell_type": "code",
   "execution_count": 116,
   "metadata": {},
   "outputs": [
    {
     "name": "stdout",
     "output_type": "stream",
     "text": [
      "<class 'pandas.core.frame.DataFrame'>\n",
      "RangeIndex: 72435 entries, 0 to 72434\n",
      "Data columns (total 10 columns):\n",
      " #   Column        Non-Null Count  Dtype  \n",
      "---  ------        --------------  -----  \n",
      " 0   model         72435 non-null  object \n",
      " 1   year          72435 non-null  int64  \n",
      " 2   price         72435 non-null  int64  \n",
      " 3   transmission  72435 non-null  object \n",
      " 4   mileage       72435 non-null  int64  \n",
      " 5   fuelType      72435 non-null  object \n",
      " 6   tax           72435 non-null  float64\n",
      " 7   mpg           72435 non-null  float64\n",
      " 8   engineSize    72435 non-null  float64\n",
      " 9   Make          72435 non-null  object \n",
      "dtypes: float64(3), int64(3), object(4)\n",
      "memory usage: 5.5+ MB\n"
     ]
    }
   ],
   "source": [
    "# revisamos los atributos del dataframe\n",
    "df.info()"
   ]
  },
  {
   "cell_type": "markdown",
   "metadata": {},
   "source": [
    "Aquí haremos las anotaciones pertinentes sobre el dataframe\n",
    "\n",
    "1.  Haremos Regresión lineal del precio, por lo que éste será el conjunto de datos Y.\n",
    "2.  El conjunto de datos X serán: model, year, mileage, engineSize, Make.\n",
    "3.  Debemos asegurarnos de que las columnas Make y model se convientan a numérico.\n",
    "4.  Así mismo, vamos a eliminar las columnas innecesarias.\n",
    "5.  Eliminar algunos registros de engineSize que contienen ceros.\n",
    "6.  El archivo original se dejará intacto y se creará una copia para procesar"
   ]
  },
  {
   "cell_type": "code",
   "execution_count": 117,
   "metadata": {},
   "outputs": [
    {
     "name": "stdout",
     "output_type": "stream",
     "text": [
      "<class 'pandas.core.frame.DataFrame'>\n",
      "RangeIndex: 72435 entries, 0 to 72434\n",
      "Data columns (total 10 columns):\n",
      " #   Column        Non-Null Count  Dtype  \n",
      "---  ------        --------------  -----  \n",
      " 0   model         72435 non-null  object \n",
      " 1   year          72435 non-null  int64  \n",
      " 2   price         72435 non-null  int64  \n",
      " 3   transmission  72435 non-null  object \n",
      " 4   mileage       72435 non-null  int64  \n",
      " 5   fuelType      72435 non-null  object \n",
      " 6   tax           72435 non-null  float64\n",
      " 7   mpg           72435 non-null  float64\n",
      " 8   engineSize    72435 non-null  float64\n",
      " 9   Make          72435 non-null  object \n",
      "dtypes: float64(3), int64(3), object(4)\n",
      "memory usage: 5.5+ MB\n"
     ]
    }
   ],
   "source": [
    "df.head(10)\n",
    "df.info()"
   ]
  },
  {
   "cell_type": "code",
   "execution_count": 118,
   "metadata": {},
   "outputs": [],
   "source": [
    "# eliminaremos transmission, fuelType, tax y mpg\n",
    "df = df.drop(['transmission', 'fuelType', 'tax', 'mpg'], axis=1)\n"
   ]
  },
  {
   "cell_type": "code",
   "execution_count": 119,
   "metadata": {},
   "outputs": [
    {
     "data": {
      "application/vnd.microsoft.datawrangler.viewer.v0+json": {
       "columns": [
        {
         "name": "index",
         "rawType": "int64",
         "type": "integer"
        },
        {
         "name": "model",
         "rawType": "object",
         "type": "string"
        },
        {
         "name": "year",
         "rawType": "int64",
         "type": "integer"
        },
        {
         "name": "price",
         "rawType": "int64",
         "type": "integer"
        },
        {
         "name": "mileage",
         "rawType": "int64",
         "type": "integer"
        },
        {
         "name": "engineSize",
         "rawType": "float64",
         "type": "float"
        },
        {
         "name": "Make",
         "rawType": "object",
         "type": "string"
        }
       ],
       "conversionMethod": "pd.DataFrame",
       "ref": "1aa23476-1fe9-415e-9a6e-1e93b26c8866",
       "rows": [
        [
         "0",
         " A1",
         "2017",
         "12500",
         "15735",
         "1.4",
         "audi"
        ],
        [
         "1",
         " A6",
         "2016",
         "16500",
         "36203",
         "2.0",
         "audi"
        ],
        [
         "2",
         " A1",
         "2016",
         "11000",
         "29946",
         "1.4",
         "audi"
        ],
        [
         "3",
         " A4",
         "2017",
         "16800",
         "25952",
         "2.0",
         "audi"
        ],
        [
         "4",
         " A3",
         "2019",
         "17300",
         "1998",
         "1.0",
         "audi"
        ]
       ],
       "shape": {
        "columns": 6,
        "rows": 5
       }
      },
      "text/html": [
       "<div>\n",
       "<style scoped>\n",
       "    .dataframe tbody tr th:only-of-type {\n",
       "        vertical-align: middle;\n",
       "    }\n",
       "\n",
       "    .dataframe tbody tr th {\n",
       "        vertical-align: top;\n",
       "    }\n",
       "\n",
       "    .dataframe thead th {\n",
       "        text-align: right;\n",
       "    }\n",
       "</style>\n",
       "<table border=\"1\" class=\"dataframe\">\n",
       "  <thead>\n",
       "    <tr style=\"text-align: right;\">\n",
       "      <th></th>\n",
       "      <th>model</th>\n",
       "      <th>year</th>\n",
       "      <th>price</th>\n",
       "      <th>mileage</th>\n",
       "      <th>engineSize</th>\n",
       "      <th>Make</th>\n",
       "    </tr>\n",
       "  </thead>\n",
       "  <tbody>\n",
       "    <tr>\n",
       "      <th>0</th>\n",
       "      <td>A1</td>\n",
       "      <td>2017</td>\n",
       "      <td>12500</td>\n",
       "      <td>15735</td>\n",
       "      <td>1.4</td>\n",
       "      <td>audi</td>\n",
       "    </tr>\n",
       "    <tr>\n",
       "      <th>1</th>\n",
       "      <td>A6</td>\n",
       "      <td>2016</td>\n",
       "      <td>16500</td>\n",
       "      <td>36203</td>\n",
       "      <td>2.0</td>\n",
       "      <td>audi</td>\n",
       "    </tr>\n",
       "    <tr>\n",
       "      <th>2</th>\n",
       "      <td>A1</td>\n",
       "      <td>2016</td>\n",
       "      <td>11000</td>\n",
       "      <td>29946</td>\n",
       "      <td>1.4</td>\n",
       "      <td>audi</td>\n",
       "    </tr>\n",
       "    <tr>\n",
       "      <th>3</th>\n",
       "      <td>A4</td>\n",
       "      <td>2017</td>\n",
       "      <td>16800</td>\n",
       "      <td>25952</td>\n",
       "      <td>2.0</td>\n",
       "      <td>audi</td>\n",
       "    </tr>\n",
       "    <tr>\n",
       "      <th>4</th>\n",
       "      <td>A3</td>\n",
       "      <td>2019</td>\n",
       "      <td>17300</td>\n",
       "      <td>1998</td>\n",
       "      <td>1.0</td>\n",
       "      <td>audi</td>\n",
       "    </tr>\n",
       "  </tbody>\n",
       "</table>\n",
       "</div>"
      ],
      "text/plain": [
       "  model  year  price  mileage  engineSize  Make\n",
       "0    A1  2017  12500    15735         1.4  audi\n",
       "1    A6  2016  16500    36203         2.0  audi\n",
       "2    A1  2016  11000    29946         1.4  audi\n",
       "3    A4  2017  16800    25952         2.0  audi\n",
       "4    A3  2019  17300     1998         1.0  audi"
      ]
     },
     "execution_count": 119,
     "metadata": {},
     "output_type": "execute_result"
    }
   ],
   "source": [
    "df.head()"
   ]
  },
  {
   "cell_type": "code",
   "execution_count": 120,
   "metadata": {},
   "outputs": [
    {
     "data": {
      "application/vnd.microsoft.datawrangler.viewer.v0+json": {
       "columns": [
        {
         "name": "index",
         "rawType": "int64",
         "type": "integer"
        },
        {
         "name": "model",
         "rawType": "object",
         "type": "string"
        },
        {
         "name": "year",
         "rawType": "int64",
         "type": "integer"
        },
        {
         "name": "price",
         "rawType": "int64",
         "type": "integer"
        },
        {
         "name": "mileage",
         "rawType": "int64",
         "type": "integer"
        },
        {
         "name": "engineSize",
         "rawType": "float64",
         "type": "float"
        },
        {
         "name": "Make",
         "rawType": "object",
         "type": "string"
        }
       ],
       "conversionMethod": "pd.DataFrame",
       "ref": "7d46870a-8ceb-44a9-8d2c-b88d4d374269",
       "rows": [
        [
         "0",
         " A1",
         "2017",
         "12500",
         "15735",
         "1.4",
         "audi"
        ],
        [
         "1",
         " A6",
         "2016",
         "16500",
         "36203",
         "2.0",
         "audi"
        ],
        [
         "2",
         " A1",
         "2016",
         "11000",
         "29946",
         "1.4",
         "audi"
        ],
        [
         "3",
         " A4",
         "2017",
         "16800",
         "25952",
         "2.0",
         "audi"
        ],
        [
         "4",
         " A3",
         "2019",
         "17300",
         "1998",
         "1.0",
         "audi"
        ],
        [
         "5",
         " A1",
         "2016",
         "13900",
         "32260",
         "1.4",
         "audi"
        ],
        [
         "6",
         " A6",
         "2016",
         "13250",
         "76788",
         "2.0",
         "audi"
        ],
        [
         "7",
         " A4",
         "2016",
         "11750",
         "75185",
         "2.0",
         "audi"
        ],
        [
         "8",
         " A3",
         "2015",
         "10200",
         "46112",
         "1.4",
         "audi"
        ],
        [
         "9",
         " A1",
         "2016",
         "12000",
         "22451",
         "1.4",
         "audi"
        ],
        [
         "10",
         " A3",
         "2017",
         "16100",
         "28955",
         "1.4",
         "audi"
        ],
        [
         "11",
         " A6",
         "2016",
         "16500",
         "52198",
         "2.0",
         "audi"
        ],
        [
         "12",
         " Q3",
         "2016",
         "17000",
         "44915",
         "2.0",
         "audi"
        ],
        [
         "13",
         " A3",
         "2017",
         "16400",
         "21695",
         "1.4",
         "audi"
        ],
        [
         "14",
         " A6",
         "2015",
         "15400",
         "47348",
         "2.0",
         "audi"
        ],
        [
         "15",
         " A3",
         "2017",
         "14500",
         "26156",
         "1.4",
         "audi"
        ],
        [
         "16",
         " Q3",
         "2016",
         "15700",
         "28396",
         "2.0",
         "audi"
        ],
        [
         "17",
         " A3",
         "2014",
         "13900",
         "30516",
         "1.4",
         "audi"
        ],
        [
         "18",
         " Q5",
         "2016",
         "19000",
         "37652",
         "2.0",
         "audi"
        ],
        [
         "19",
         " Q3",
         "2014",
         "17000",
         "34110",
         "1.4",
         "audi"
        ],
        [
         "20",
         " A5",
         "2017",
         "17300",
         "37100",
         "2.0",
         "audi"
        ],
        [
         "21",
         " Q5",
         "2016",
         "20200",
         "23714",
         "2.0",
         "audi"
        ],
        [
         "22",
         " A5",
         "2017",
         "22500",
         "21649",
         "3.0",
         "audi"
        ],
        [
         "23",
         " A6",
         "2015",
         "17500",
         "62748",
         "3.0",
         "audi"
        ],
        [
         "24",
         " Q5",
         "2016",
         "20000",
         "23789",
         "2.0",
         "audi"
        ],
        [
         "25",
         " A4",
         "2017",
         "18500",
         "17418",
         "2.0",
         "audi"
        ],
        [
         "26",
         " A5",
         "2017",
         "19500",
         "33300",
         "2.0",
         "audi"
        ],
        [
         "27",
         " A1",
         "2018",
         "15800",
         "10793",
         "1.4",
         "audi"
        ],
        [
         "28",
         " A4",
         "2018",
         "17200",
         "25138",
         "2.0",
         "audi"
        ],
        [
         "29",
         " A6",
         "2015",
         "14000",
         "61176",
         "2.0",
         "audi"
        ],
        [
         "30",
         " A1",
         "2015",
         "9500",
         "54754",
         "1.6",
         "audi"
        ],
        [
         "31",
         " Q3",
         "2017",
         "16500",
         "21369",
         "1.4",
         "audi"
        ],
        [
         "32",
         " Q3",
         "2014",
         "15000",
         "39190",
         "2.0",
         "audi"
        ],
        [
         "33",
         " Q3",
         "2017",
         "16000",
         "47482",
         "1.4",
         "audi"
        ],
        [
         "34",
         " Q3",
         "2016",
         "16900",
         "40501",
         "2.0",
         "audi"
        ],
        [
         "35",
         " Q3",
         "2014",
         "12300",
         "43195",
         "2.0",
         "audi"
        ],
        [
         "36",
         " A1",
         "2017",
         "10800",
         "31447",
         "1.0",
         "audi"
        ],
        [
         "37",
         " A6",
         "2016",
         "19400",
         "34030",
         "2.0",
         "audi"
        ],
        [
         "38",
         " A4",
         "2017",
         "16000",
         "29063",
         "2.0",
         "audi"
        ],
        [
         "39",
         " A3",
         "2017",
         "17100",
         "29545",
         "2.0",
         "audi"
        ],
        [
         "40",
         " A3",
         "2015",
         "11300",
         "75619",
         "2.0",
         "audi"
        ],
        [
         "41",
         " Q3",
         "2016",
         "17200",
         "39603",
         "2.0",
         "audi"
        ],
        [
         "42",
         " Q3",
         "2017",
         "20300",
         "42908",
         "2.0",
         "audi"
        ],
        [
         "43",
         " A5",
         "2014",
         "13200",
         "83872",
         "2.0",
         "audi"
        ],
        [
         "44",
         " Q3",
         "2016",
         "15200",
         "58750",
         "1.4",
         "audi"
        ],
        [
         "45",
         " A3",
         "2019",
         "15700",
         "2029",
         "1.0",
         "audi"
        ],
        [
         "46",
         " A6",
         "2018",
         "16600",
         "22958",
         "1.8",
         "audi"
        ],
        [
         "47",
         " A4",
         "2017",
         "14400",
         "32097",
         "2.0",
         "audi"
        ],
        [
         "48",
         " A5",
         "2017",
         "20200",
         "13057",
         "2.0",
         "audi"
        ],
        [
         "49",
         " S4",
         "2017",
         "23700",
         "20278",
         "3.0",
         "audi"
        ]
       ],
       "shape": {
        "columns": 6,
        "rows": 72435
       }
      },
      "text/html": [
       "<div>\n",
       "<style scoped>\n",
       "    .dataframe tbody tr th:only-of-type {\n",
       "        vertical-align: middle;\n",
       "    }\n",
       "\n",
       "    .dataframe tbody tr th {\n",
       "        vertical-align: top;\n",
       "    }\n",
       "\n",
       "    .dataframe thead th {\n",
       "        text-align: right;\n",
       "    }\n",
       "</style>\n",
       "<table border=\"1\" class=\"dataframe\">\n",
       "  <thead>\n",
       "    <tr style=\"text-align: right;\">\n",
       "      <th></th>\n",
       "      <th>model</th>\n",
       "      <th>year</th>\n",
       "      <th>price</th>\n",
       "      <th>mileage</th>\n",
       "      <th>engineSize</th>\n",
       "      <th>Make</th>\n",
       "    </tr>\n",
       "  </thead>\n",
       "  <tbody>\n",
       "    <tr>\n",
       "      <th>0</th>\n",
       "      <td>A1</td>\n",
       "      <td>2017</td>\n",
       "      <td>12500</td>\n",
       "      <td>15735</td>\n",
       "      <td>1.4</td>\n",
       "      <td>audi</td>\n",
       "    </tr>\n",
       "    <tr>\n",
       "      <th>1</th>\n",
       "      <td>A6</td>\n",
       "      <td>2016</td>\n",
       "      <td>16500</td>\n",
       "      <td>36203</td>\n",
       "      <td>2.0</td>\n",
       "      <td>audi</td>\n",
       "    </tr>\n",
       "    <tr>\n",
       "      <th>2</th>\n",
       "      <td>A1</td>\n",
       "      <td>2016</td>\n",
       "      <td>11000</td>\n",
       "      <td>29946</td>\n",
       "      <td>1.4</td>\n",
       "      <td>audi</td>\n",
       "    </tr>\n",
       "    <tr>\n",
       "      <th>3</th>\n",
       "      <td>A4</td>\n",
       "      <td>2017</td>\n",
       "      <td>16800</td>\n",
       "      <td>25952</td>\n",
       "      <td>2.0</td>\n",
       "      <td>audi</td>\n",
       "    </tr>\n",
       "    <tr>\n",
       "      <th>4</th>\n",
       "      <td>A3</td>\n",
       "      <td>2019</td>\n",
       "      <td>17300</td>\n",
       "      <td>1998</td>\n",
       "      <td>1.0</td>\n",
       "      <td>audi</td>\n",
       "    </tr>\n",
       "    <tr>\n",
       "      <th>...</th>\n",
       "      <td>...</td>\n",
       "      <td>...</td>\n",
       "      <td>...</td>\n",
       "      <td>...</td>\n",
       "      <td>...</td>\n",
       "      <td>...</td>\n",
       "    </tr>\n",
       "    <tr>\n",
       "      <th>72430</th>\n",
       "      <td>I30</td>\n",
       "      <td>2016</td>\n",
       "      <td>8680</td>\n",
       "      <td>25906</td>\n",
       "      <td>1.6</td>\n",
       "      <td>Hyundai</td>\n",
       "    </tr>\n",
       "    <tr>\n",
       "      <th>72431</th>\n",
       "      <td>I40</td>\n",
       "      <td>2015</td>\n",
       "      <td>7830</td>\n",
       "      <td>59508</td>\n",
       "      <td>1.7</td>\n",
       "      <td>Hyundai</td>\n",
       "    </tr>\n",
       "    <tr>\n",
       "      <th>72432</th>\n",
       "      <td>I10</td>\n",
       "      <td>2017</td>\n",
       "      <td>6830</td>\n",
       "      <td>13810</td>\n",
       "      <td>1.0</td>\n",
       "      <td>Hyundai</td>\n",
       "    </tr>\n",
       "    <tr>\n",
       "      <th>72433</th>\n",
       "      <td>Tucson</td>\n",
       "      <td>2018</td>\n",
       "      <td>13994</td>\n",
       "      <td>23313</td>\n",
       "      <td>1.6</td>\n",
       "      <td>Hyundai</td>\n",
       "    </tr>\n",
       "    <tr>\n",
       "      <th>72434</th>\n",
       "      <td>Tucson</td>\n",
       "      <td>2016</td>\n",
       "      <td>15999</td>\n",
       "      <td>11472</td>\n",
       "      <td>1.7</td>\n",
       "      <td>Hyundai</td>\n",
       "    </tr>\n",
       "  </tbody>\n",
       "</table>\n",
       "<p>72435 rows × 6 columns</p>\n",
       "</div>"
      ],
      "text/plain": [
       "         model  year  price  mileage  engineSize     Make\n",
       "0           A1  2017  12500    15735         1.4     audi\n",
       "1           A6  2016  16500    36203         2.0     audi\n",
       "2           A1  2016  11000    29946         1.4     audi\n",
       "3           A4  2017  16800    25952         2.0     audi\n",
       "4           A3  2019  17300     1998         1.0     audi\n",
       "...        ...   ...    ...      ...         ...      ...\n",
       "72430      I30  2016   8680    25906         1.6  Hyundai\n",
       "72431      I40  2015   7830    59508         1.7  Hyundai\n",
       "72432      I10  2017   6830    13810         1.0  Hyundai\n",
       "72433   Tucson  2018  13994    23313         1.6  Hyundai\n",
       "72434   Tucson  2016  15999    11472         1.7  Hyundai\n",
       "\n",
       "[72435 rows x 6 columns]"
      ]
     },
     "execution_count": 120,
     "metadata": {},
     "output_type": "execute_result"
    }
   ],
   "source": [
    "# df.to_csv(\"cars_dataset_depurado.csv\",index=False)\n",
    "\n",
    "df"
   ]
  },
  {
   "cell_type": "code",
   "execution_count": 121,
   "metadata": {},
   "outputs": [
    {
     "name": "stdout",
     "output_type": "stream",
     "text": [
      "[' A1' ' A6' ' A4' ' A3' ' Q3' ' Q5' ' A5' ' S4' ' Q2' ' A7' ' TT' ' Q7'\n",
      " ' RS6' ' RS3' ' A8' ' Q8' ' RS4' ' RS5' ' R8' ' SQ5' ' S8' ' SQ7' ' S3'\n",
      " ' S5' ' A2' ' RS7' ' 5 Series' ' 6 Series' ' 1 Series' ' 7 Series'\n",
      " ' 2 Series' ' 4 Series' ' X3' ' 3 Series' ' X5' ' X4' ' i3' ' X1' ' M4'\n",
      " ' X2' ' X6' ' 8 Series' ' Z4' ' X7' ' M5' ' i8' ' M2' ' M3' ' M6' ' Z3'\n",
      " ' Fiesta' ' Focus' ' Puma' ' Kuga' ' EcoSport' ' C-MAX' ' Mondeo' ' Ka+'\n",
      " ' Tourneo Custom' ' S-MAX' ' B-MAX' ' Edge' ' Tourneo Connect'\n",
      " ' Grand C-MAX' ' KA' ' Galaxy' ' Mustang' ' Grand Tourneo Connect'\n",
      " ' Fusion' ' Ranger' ' Streetka' ' Escort' ' Transit Tourneo' ' T-Roc'\n",
      " ' Golf' ' Passat' ' T-Cross' ' Polo' ' Tiguan' ' Sharan' ' Up'\n",
      " ' Scirocco' ' Beetle' ' Caddy Maxi Life' ' Caravelle' ' Touareg'\n",
      " ' Arteon' ' Touran' ' Golf SV' ' Amarok' ' Tiguan Allspace' ' Shuttle'\n",
      " ' Jetta' ' CC' ' California' ' Caddy Life' ' Caddy' ' Caddy Maxi' ' Eos'\n",
      " ' Fox' ' GT86' ' Corolla' ' RAV4' ' Yaris' ' Auris' ' Aygo' ' C-HR'\n",
      " ' Prius' ' Avensis' ' Verso' ' Hilux' ' PROACE VERSO' ' Land Cruiser'\n",
      " ' Supra' ' Camry' ' Verso-S' ' IQ' ' Urban Cruiser' ' Octavia' ' Citigo'\n",
      " ' Yeti Outdoor' ' Superb' ' Kodiaq' ' Rapid' ' Karoq' ' Fabia' ' Yeti'\n",
      " ' Scala' ' Roomster' ' Kamiq' ' I20' ' Tucson' ' I10' ' IX35' ' I30'\n",
      " ' I40' ' Ioniq' ' Kona' ' Veloster' ' I800' ' IX20' ' Santa Fe' ' Accent'\n",
      " ' Terracan' ' Getz' ' Amica']\n"
     ]
    }
   ],
   "source": [
    "valores_unicos = df['model'].unique()\n",
    "print(valores_unicos)\n"
   ]
  },
  {
   "cell_type": "code",
   "execution_count": 122,
   "metadata": {},
   "outputs": [
    {
     "name": "stdout",
     "output_type": "stream",
     "text": [
      "   model  year  price  mileage  engineSize  Make\n",
      "0      0  2017  12500    15735         1.4  audi\n",
      "1      1  2016  16500    36203         2.0  audi\n",
      "2      0  2016  11000    29946         1.4  audi\n",
      "3      2  2017  16800    25952         2.0  audi\n",
      "4      3  2019  17300     1998         1.0  audi\n"
     ]
    }
   ],
   "source": [
    "# Crear diccionario de códigos automáticos en formato numérico\n",
    "codigo_modelos = {modelo.strip(): idx for idx, modelo in enumerate(valores_unicos)}\n",
    "\n",
    "# Reemplazar en el DataFrame\n",
    "df['model'] = df['model'].str.strip().map(codigo_modelos).fillna(-1).astype(int)\n",
    "\n",
    "print(df.head())\n"
   ]
  },
  {
   "cell_type": "code",
   "execution_count": 123,
   "metadata": {},
   "outputs": [
    {
     "data": {
      "application/vnd.microsoft.datawrangler.viewer.v0+json": {
       "columns": [
        {
         "name": "index",
         "rawType": "int64",
         "type": "integer"
        },
        {
         "name": "model",
         "rawType": "int64",
         "type": "integer"
        },
        {
         "name": "year",
         "rawType": "int64",
         "type": "integer"
        },
        {
         "name": "price",
         "rawType": "int64",
         "type": "integer"
        },
        {
         "name": "mileage",
         "rawType": "int64",
         "type": "integer"
        },
        {
         "name": "engineSize",
         "rawType": "float64",
         "type": "float"
        },
        {
         "name": "Make",
         "rawType": "object",
         "type": "string"
        }
       ],
       "conversionMethod": "pd.DataFrame",
       "ref": "f513e6ae-9434-46b0-bb11-aeab5aaec0c6",
       "rows": [
        [
         "0",
         "0",
         "2017",
         "12500",
         "15735",
         "1.4",
         "audi"
        ],
        [
         "1",
         "1",
         "2016",
         "16500",
         "36203",
         "2.0",
         "audi"
        ],
        [
         "2",
         "0",
         "2016",
         "11000",
         "29946",
         "1.4",
         "audi"
        ],
        [
         "3",
         "2",
         "2017",
         "16800",
         "25952",
         "2.0",
         "audi"
        ],
        [
         "4",
         "3",
         "2019",
         "17300",
         "1998",
         "1.0",
         "audi"
        ],
        [
         "5",
         "0",
         "2016",
         "13900",
         "32260",
         "1.4",
         "audi"
        ],
        [
         "6",
         "1",
         "2016",
         "13250",
         "76788",
         "2.0",
         "audi"
        ],
        [
         "7",
         "2",
         "2016",
         "11750",
         "75185",
         "2.0",
         "audi"
        ],
        [
         "8",
         "3",
         "2015",
         "10200",
         "46112",
         "1.4",
         "audi"
        ],
        [
         "9",
         "0",
         "2016",
         "12000",
         "22451",
         "1.4",
         "audi"
        ],
        [
         "10",
         "3",
         "2017",
         "16100",
         "28955",
         "1.4",
         "audi"
        ],
        [
         "11",
         "1",
         "2016",
         "16500",
         "52198",
         "2.0",
         "audi"
        ],
        [
         "12",
         "4",
         "2016",
         "17000",
         "44915",
         "2.0",
         "audi"
        ],
        [
         "13",
         "3",
         "2017",
         "16400",
         "21695",
         "1.4",
         "audi"
        ],
        [
         "14",
         "1",
         "2015",
         "15400",
         "47348",
         "2.0",
         "audi"
        ],
        [
         "15",
         "3",
         "2017",
         "14500",
         "26156",
         "1.4",
         "audi"
        ],
        [
         "16",
         "4",
         "2016",
         "15700",
         "28396",
         "2.0",
         "audi"
        ],
        [
         "17",
         "3",
         "2014",
         "13900",
         "30516",
         "1.4",
         "audi"
        ],
        [
         "18",
         "5",
         "2016",
         "19000",
         "37652",
         "2.0",
         "audi"
        ],
        [
         "19",
         "4",
         "2014",
         "17000",
         "34110",
         "1.4",
         "audi"
        ],
        [
         "20",
         "6",
         "2017",
         "17300",
         "37100",
         "2.0",
         "audi"
        ],
        [
         "21",
         "5",
         "2016",
         "20200",
         "23714",
         "2.0",
         "audi"
        ],
        [
         "22",
         "6",
         "2017",
         "22500",
         "21649",
         "3.0",
         "audi"
        ],
        [
         "23",
         "1",
         "2015",
         "17500",
         "62748",
         "3.0",
         "audi"
        ],
        [
         "24",
         "5",
         "2016",
         "20000",
         "23789",
         "2.0",
         "audi"
        ],
        [
         "25",
         "2",
         "2017",
         "18500",
         "17418",
         "2.0",
         "audi"
        ],
        [
         "26",
         "6",
         "2017",
         "19500",
         "33300",
         "2.0",
         "audi"
        ],
        [
         "27",
         "0",
         "2018",
         "15800",
         "10793",
         "1.4",
         "audi"
        ],
        [
         "28",
         "2",
         "2018",
         "17200",
         "25138",
         "2.0",
         "audi"
        ],
        [
         "29",
         "1",
         "2015",
         "14000",
         "61176",
         "2.0",
         "audi"
        ],
        [
         "30",
         "0",
         "2015",
         "9500",
         "54754",
         "1.6",
         "audi"
        ],
        [
         "31",
         "4",
         "2017",
         "16500",
         "21369",
         "1.4",
         "audi"
        ],
        [
         "32",
         "4",
         "2014",
         "15000",
         "39190",
         "2.0",
         "audi"
        ],
        [
         "33",
         "4",
         "2017",
         "16000",
         "47482",
         "1.4",
         "audi"
        ],
        [
         "34",
         "4",
         "2016",
         "16900",
         "40501",
         "2.0",
         "audi"
        ],
        [
         "35",
         "4",
         "2014",
         "12300",
         "43195",
         "2.0",
         "audi"
        ],
        [
         "36",
         "0",
         "2017",
         "10800",
         "31447",
         "1.0",
         "audi"
        ],
        [
         "37",
         "1",
         "2016",
         "19400",
         "34030",
         "2.0",
         "audi"
        ],
        [
         "38",
         "2",
         "2017",
         "16000",
         "29063",
         "2.0",
         "audi"
        ],
        [
         "39",
         "3",
         "2017",
         "17100",
         "29545",
         "2.0",
         "audi"
        ],
        [
         "40",
         "3",
         "2015",
         "11300",
         "75619",
         "2.0",
         "audi"
        ],
        [
         "41",
         "4",
         "2016",
         "17200",
         "39603",
         "2.0",
         "audi"
        ],
        [
         "42",
         "4",
         "2017",
         "20300",
         "42908",
         "2.0",
         "audi"
        ],
        [
         "43",
         "6",
         "2014",
         "13200",
         "83872",
         "2.0",
         "audi"
        ],
        [
         "44",
         "4",
         "2016",
         "15200",
         "58750",
         "1.4",
         "audi"
        ],
        [
         "45",
         "3",
         "2019",
         "15700",
         "2029",
         "1.0",
         "audi"
        ],
        [
         "46",
         "1",
         "2018",
         "16600",
         "22958",
         "1.8",
         "audi"
        ],
        [
         "47",
         "2",
         "2017",
         "14400",
         "32097",
         "2.0",
         "audi"
        ],
        [
         "48",
         "6",
         "2017",
         "20200",
         "13057",
         "2.0",
         "audi"
        ],
        [
         "49",
         "7",
         "2017",
         "23700",
         "20278",
         "3.0",
         "audi"
        ]
       ],
       "shape": {
        "columns": 6,
        "rows": 72435
       }
      },
      "text/html": [
       "<div>\n",
       "<style scoped>\n",
       "    .dataframe tbody tr th:only-of-type {\n",
       "        vertical-align: middle;\n",
       "    }\n",
       "\n",
       "    .dataframe tbody tr th {\n",
       "        vertical-align: top;\n",
       "    }\n",
       "\n",
       "    .dataframe thead th {\n",
       "        text-align: right;\n",
       "    }\n",
       "</style>\n",
       "<table border=\"1\" class=\"dataframe\">\n",
       "  <thead>\n",
       "    <tr style=\"text-align: right;\">\n",
       "      <th></th>\n",
       "      <th>model</th>\n",
       "      <th>year</th>\n",
       "      <th>price</th>\n",
       "      <th>mileage</th>\n",
       "      <th>engineSize</th>\n",
       "      <th>Make</th>\n",
       "    </tr>\n",
       "  </thead>\n",
       "  <tbody>\n",
       "    <tr>\n",
       "      <th>0</th>\n",
       "      <td>0</td>\n",
       "      <td>2017</td>\n",
       "      <td>12500</td>\n",
       "      <td>15735</td>\n",
       "      <td>1.4</td>\n",
       "      <td>audi</td>\n",
       "    </tr>\n",
       "    <tr>\n",
       "      <th>1</th>\n",
       "      <td>1</td>\n",
       "      <td>2016</td>\n",
       "      <td>16500</td>\n",
       "      <td>36203</td>\n",
       "      <td>2.0</td>\n",
       "      <td>audi</td>\n",
       "    </tr>\n",
       "    <tr>\n",
       "      <th>2</th>\n",
       "      <td>0</td>\n",
       "      <td>2016</td>\n",
       "      <td>11000</td>\n",
       "      <td>29946</td>\n",
       "      <td>1.4</td>\n",
       "      <td>audi</td>\n",
       "    </tr>\n",
       "    <tr>\n",
       "      <th>3</th>\n",
       "      <td>2</td>\n",
       "      <td>2017</td>\n",
       "      <td>16800</td>\n",
       "      <td>25952</td>\n",
       "      <td>2.0</td>\n",
       "      <td>audi</td>\n",
       "    </tr>\n",
       "    <tr>\n",
       "      <th>4</th>\n",
       "      <td>3</td>\n",
       "      <td>2019</td>\n",
       "      <td>17300</td>\n",
       "      <td>1998</td>\n",
       "      <td>1.0</td>\n",
       "      <td>audi</td>\n",
       "    </tr>\n",
       "    <tr>\n",
       "      <th>...</th>\n",
       "      <td>...</td>\n",
       "      <td>...</td>\n",
       "      <td>...</td>\n",
       "      <td>...</td>\n",
       "      <td>...</td>\n",
       "      <td>...</td>\n",
       "    </tr>\n",
       "    <tr>\n",
       "      <th>72430</th>\n",
       "      <td>134</td>\n",
       "      <td>2016</td>\n",
       "      <td>8680</td>\n",
       "      <td>25906</td>\n",
       "      <td>1.6</td>\n",
       "      <td>Hyundai</td>\n",
       "    </tr>\n",
       "    <tr>\n",
       "      <th>72431</th>\n",
       "      <td>135</td>\n",
       "      <td>2015</td>\n",
       "      <td>7830</td>\n",
       "      <td>59508</td>\n",
       "      <td>1.7</td>\n",
       "      <td>Hyundai</td>\n",
       "    </tr>\n",
       "    <tr>\n",
       "      <th>72432</th>\n",
       "      <td>132</td>\n",
       "      <td>2017</td>\n",
       "      <td>6830</td>\n",
       "      <td>13810</td>\n",
       "      <td>1.0</td>\n",
       "      <td>Hyundai</td>\n",
       "    </tr>\n",
       "    <tr>\n",
       "      <th>72433</th>\n",
       "      <td>131</td>\n",
       "      <td>2018</td>\n",
       "      <td>13994</td>\n",
       "      <td>23313</td>\n",
       "      <td>1.6</td>\n",
       "      <td>Hyundai</td>\n",
       "    </tr>\n",
       "    <tr>\n",
       "      <th>72434</th>\n",
       "      <td>131</td>\n",
       "      <td>2016</td>\n",
       "      <td>15999</td>\n",
       "      <td>11472</td>\n",
       "      <td>1.7</td>\n",
       "      <td>Hyundai</td>\n",
       "    </tr>\n",
       "  </tbody>\n",
       "</table>\n",
       "<p>72435 rows × 6 columns</p>\n",
       "</div>"
      ],
      "text/plain": [
       "       model  year  price  mileage  engineSize     Make\n",
       "0          0  2017  12500    15735         1.4     audi\n",
       "1          1  2016  16500    36203         2.0     audi\n",
       "2          0  2016  11000    29946         1.4     audi\n",
       "3          2  2017  16800    25952         2.0     audi\n",
       "4          3  2019  17300     1998         1.0     audi\n",
       "...      ...   ...    ...      ...         ...      ...\n",
       "72430    134  2016   8680    25906         1.6  Hyundai\n",
       "72431    135  2015   7830    59508         1.7  Hyundai\n",
       "72432    132  2017   6830    13810         1.0  Hyundai\n",
       "72433    131  2018  13994    23313         1.6  Hyundai\n",
       "72434    131  2016  15999    11472         1.7  Hyundai\n",
       "\n",
       "[72435 rows x 6 columns]"
      ]
     },
     "execution_count": 123,
     "metadata": {},
     "output_type": "execute_result"
    }
   ],
   "source": [
    "df"
   ]
  },
  {
   "cell_type": "code",
   "execution_count": 124,
   "metadata": {},
   "outputs": [
    {
     "name": "stdout",
     "output_type": "stream",
     "text": [
      "['audi' 'BMW' 'Ford' 'vw' 'toyota' 'skoda' 'Hyundai']\n"
     ]
    }
   ],
   "source": [
    "valores_unicos_makes = df['Make'].unique()\n",
    "print(valores_unicos_makes)"
   ]
  },
  {
   "cell_type": "code",
   "execution_count": 125,
   "metadata": {},
   "outputs": [
    {
     "name": "stdout",
     "output_type": "stream",
     "text": [
      "   model  year  price  mileage  engineSize  Make\n",
      "0      0  2017  12500    15735         1.4     0\n",
      "1      1  2016  16500    36203         2.0     0\n",
      "2      0  2016  11000    29946         1.4     0\n",
      "3      2  2017  16800    25952         2.0     0\n",
      "4      3  2019  17300     1998         1.0     0\n"
     ]
    }
   ],
   "source": [
    "# Crear diccionario de códigos automáticos en formato numérico\n",
    "codigo_modelos_makes = {modelo.strip(): idx for idx, modelo in enumerate(valores_unicos_makes)}\n",
    "\n",
    "# Reemplazar en el DataFrame con manejo de errores\n",
    "df['Make'] = df['Make'].str.strip().map(codigo_modelos_makes).fillna(-1).astype(int)\n",
    "\n",
    "print(df.head())"
   ]
  },
  {
   "cell_type": "code",
   "execution_count": 126,
   "metadata": {},
   "outputs": [
    {
     "data": {
      "application/vnd.microsoft.datawrangler.viewer.v0+json": {
       "columns": [
        {
         "name": "index",
         "rawType": "int64",
         "type": "integer"
        },
        {
         "name": "model",
         "rawType": "int64",
         "type": "integer"
        },
        {
         "name": "year",
         "rawType": "int64",
         "type": "integer"
        },
        {
         "name": "price",
         "rawType": "int64",
         "type": "integer"
        },
        {
         "name": "mileage",
         "rawType": "int64",
         "type": "integer"
        },
        {
         "name": "engineSize",
         "rawType": "float64",
         "type": "float"
        },
        {
         "name": "Make",
         "rawType": "int64",
         "type": "integer"
        }
       ],
       "conversionMethod": "pd.DataFrame",
       "ref": "c1e3523f-9a3d-4891-b2ae-5941a9e6b4c7",
       "rows": [
        [
         "0",
         "0",
         "2017",
         "12500",
         "15735",
         "1.4",
         "0"
        ],
        [
         "1",
         "1",
         "2016",
         "16500",
         "36203",
         "2.0",
         "0"
        ],
        [
         "2",
         "0",
         "2016",
         "11000",
         "29946",
         "1.4",
         "0"
        ],
        [
         "3",
         "2",
         "2017",
         "16800",
         "25952",
         "2.0",
         "0"
        ],
        [
         "4",
         "3",
         "2019",
         "17300",
         "1998",
         "1.0",
         "0"
        ],
        [
         "5",
         "0",
         "2016",
         "13900",
         "32260",
         "1.4",
         "0"
        ],
        [
         "6",
         "1",
         "2016",
         "13250",
         "76788",
         "2.0",
         "0"
        ],
        [
         "7",
         "2",
         "2016",
         "11750",
         "75185",
         "2.0",
         "0"
        ],
        [
         "8",
         "3",
         "2015",
         "10200",
         "46112",
         "1.4",
         "0"
        ],
        [
         "9",
         "0",
         "2016",
         "12000",
         "22451",
         "1.4",
         "0"
        ],
        [
         "10",
         "3",
         "2017",
         "16100",
         "28955",
         "1.4",
         "0"
        ],
        [
         "11",
         "1",
         "2016",
         "16500",
         "52198",
         "2.0",
         "0"
        ],
        [
         "12",
         "4",
         "2016",
         "17000",
         "44915",
         "2.0",
         "0"
        ],
        [
         "13",
         "3",
         "2017",
         "16400",
         "21695",
         "1.4",
         "0"
        ],
        [
         "14",
         "1",
         "2015",
         "15400",
         "47348",
         "2.0",
         "0"
        ],
        [
         "15",
         "3",
         "2017",
         "14500",
         "26156",
         "1.4",
         "0"
        ],
        [
         "16",
         "4",
         "2016",
         "15700",
         "28396",
         "2.0",
         "0"
        ],
        [
         "17",
         "3",
         "2014",
         "13900",
         "30516",
         "1.4",
         "0"
        ],
        [
         "18",
         "5",
         "2016",
         "19000",
         "37652",
         "2.0",
         "0"
        ],
        [
         "19",
         "4",
         "2014",
         "17000",
         "34110",
         "1.4",
         "0"
        ],
        [
         "20",
         "6",
         "2017",
         "17300",
         "37100",
         "2.0",
         "0"
        ],
        [
         "21",
         "5",
         "2016",
         "20200",
         "23714",
         "2.0",
         "0"
        ],
        [
         "22",
         "6",
         "2017",
         "22500",
         "21649",
         "3.0",
         "0"
        ],
        [
         "23",
         "1",
         "2015",
         "17500",
         "62748",
         "3.0",
         "0"
        ],
        [
         "24",
         "5",
         "2016",
         "20000",
         "23789",
         "2.0",
         "0"
        ],
        [
         "25",
         "2",
         "2017",
         "18500",
         "17418",
         "2.0",
         "0"
        ],
        [
         "26",
         "6",
         "2017",
         "19500",
         "33300",
         "2.0",
         "0"
        ],
        [
         "27",
         "0",
         "2018",
         "15800",
         "10793",
         "1.4",
         "0"
        ],
        [
         "28",
         "2",
         "2018",
         "17200",
         "25138",
         "2.0",
         "0"
        ],
        [
         "29",
         "1",
         "2015",
         "14000",
         "61176",
         "2.0",
         "0"
        ],
        [
         "30",
         "0",
         "2015",
         "9500",
         "54754",
         "1.6",
         "0"
        ],
        [
         "31",
         "4",
         "2017",
         "16500",
         "21369",
         "1.4",
         "0"
        ],
        [
         "32",
         "4",
         "2014",
         "15000",
         "39190",
         "2.0",
         "0"
        ],
        [
         "33",
         "4",
         "2017",
         "16000",
         "47482",
         "1.4",
         "0"
        ],
        [
         "34",
         "4",
         "2016",
         "16900",
         "40501",
         "2.0",
         "0"
        ],
        [
         "35",
         "4",
         "2014",
         "12300",
         "43195",
         "2.0",
         "0"
        ],
        [
         "36",
         "0",
         "2017",
         "10800",
         "31447",
         "1.0",
         "0"
        ],
        [
         "37",
         "1",
         "2016",
         "19400",
         "34030",
         "2.0",
         "0"
        ],
        [
         "38",
         "2",
         "2017",
         "16000",
         "29063",
         "2.0",
         "0"
        ],
        [
         "39",
         "3",
         "2017",
         "17100",
         "29545",
         "2.0",
         "0"
        ],
        [
         "40",
         "3",
         "2015",
         "11300",
         "75619",
         "2.0",
         "0"
        ],
        [
         "41",
         "4",
         "2016",
         "17200",
         "39603",
         "2.0",
         "0"
        ],
        [
         "42",
         "4",
         "2017",
         "20300",
         "42908",
         "2.0",
         "0"
        ],
        [
         "43",
         "6",
         "2014",
         "13200",
         "83872",
         "2.0",
         "0"
        ],
        [
         "44",
         "4",
         "2016",
         "15200",
         "58750",
         "1.4",
         "0"
        ],
        [
         "45",
         "3",
         "2019",
         "15700",
         "2029",
         "1.0",
         "0"
        ],
        [
         "46",
         "1",
         "2018",
         "16600",
         "22958",
         "1.8",
         "0"
        ],
        [
         "47",
         "2",
         "2017",
         "14400",
         "32097",
         "2.0",
         "0"
        ],
        [
         "48",
         "6",
         "2017",
         "20200",
         "13057",
         "2.0",
         "0"
        ],
        [
         "49",
         "7",
         "2017",
         "23700",
         "20278",
         "3.0",
         "0"
        ]
       ],
       "shape": {
        "columns": 6,
        "rows": 72435
       }
      },
      "text/html": [
       "<div>\n",
       "<style scoped>\n",
       "    .dataframe tbody tr th:only-of-type {\n",
       "        vertical-align: middle;\n",
       "    }\n",
       "\n",
       "    .dataframe tbody tr th {\n",
       "        vertical-align: top;\n",
       "    }\n",
       "\n",
       "    .dataframe thead th {\n",
       "        text-align: right;\n",
       "    }\n",
       "</style>\n",
       "<table border=\"1\" class=\"dataframe\">\n",
       "  <thead>\n",
       "    <tr style=\"text-align: right;\">\n",
       "      <th></th>\n",
       "      <th>model</th>\n",
       "      <th>year</th>\n",
       "      <th>price</th>\n",
       "      <th>mileage</th>\n",
       "      <th>engineSize</th>\n",
       "      <th>Make</th>\n",
       "    </tr>\n",
       "  </thead>\n",
       "  <tbody>\n",
       "    <tr>\n",
       "      <th>0</th>\n",
       "      <td>0</td>\n",
       "      <td>2017</td>\n",
       "      <td>12500</td>\n",
       "      <td>15735</td>\n",
       "      <td>1.4</td>\n",
       "      <td>0</td>\n",
       "    </tr>\n",
       "    <tr>\n",
       "      <th>1</th>\n",
       "      <td>1</td>\n",
       "      <td>2016</td>\n",
       "      <td>16500</td>\n",
       "      <td>36203</td>\n",
       "      <td>2.0</td>\n",
       "      <td>0</td>\n",
       "    </tr>\n",
       "    <tr>\n",
       "      <th>2</th>\n",
       "      <td>0</td>\n",
       "      <td>2016</td>\n",
       "      <td>11000</td>\n",
       "      <td>29946</td>\n",
       "      <td>1.4</td>\n",
       "      <td>0</td>\n",
       "    </tr>\n",
       "    <tr>\n",
       "      <th>3</th>\n",
       "      <td>2</td>\n",
       "      <td>2017</td>\n",
       "      <td>16800</td>\n",
       "      <td>25952</td>\n",
       "      <td>2.0</td>\n",
       "      <td>0</td>\n",
       "    </tr>\n",
       "    <tr>\n",
       "      <th>4</th>\n",
       "      <td>3</td>\n",
       "      <td>2019</td>\n",
       "      <td>17300</td>\n",
       "      <td>1998</td>\n",
       "      <td>1.0</td>\n",
       "      <td>0</td>\n",
       "    </tr>\n",
       "    <tr>\n",
       "      <th>...</th>\n",
       "      <td>...</td>\n",
       "      <td>...</td>\n",
       "      <td>...</td>\n",
       "      <td>...</td>\n",
       "      <td>...</td>\n",
       "      <td>...</td>\n",
       "    </tr>\n",
       "    <tr>\n",
       "      <th>72430</th>\n",
       "      <td>134</td>\n",
       "      <td>2016</td>\n",
       "      <td>8680</td>\n",
       "      <td>25906</td>\n",
       "      <td>1.6</td>\n",
       "      <td>6</td>\n",
       "    </tr>\n",
       "    <tr>\n",
       "      <th>72431</th>\n",
       "      <td>135</td>\n",
       "      <td>2015</td>\n",
       "      <td>7830</td>\n",
       "      <td>59508</td>\n",
       "      <td>1.7</td>\n",
       "      <td>6</td>\n",
       "    </tr>\n",
       "    <tr>\n",
       "      <th>72432</th>\n",
       "      <td>132</td>\n",
       "      <td>2017</td>\n",
       "      <td>6830</td>\n",
       "      <td>13810</td>\n",
       "      <td>1.0</td>\n",
       "      <td>6</td>\n",
       "    </tr>\n",
       "    <tr>\n",
       "      <th>72433</th>\n",
       "      <td>131</td>\n",
       "      <td>2018</td>\n",
       "      <td>13994</td>\n",
       "      <td>23313</td>\n",
       "      <td>1.6</td>\n",
       "      <td>6</td>\n",
       "    </tr>\n",
       "    <tr>\n",
       "      <th>72434</th>\n",
       "      <td>131</td>\n",
       "      <td>2016</td>\n",
       "      <td>15999</td>\n",
       "      <td>11472</td>\n",
       "      <td>1.7</td>\n",
       "      <td>6</td>\n",
       "    </tr>\n",
       "  </tbody>\n",
       "</table>\n",
       "<p>72435 rows × 6 columns</p>\n",
       "</div>"
      ],
      "text/plain": [
       "       model  year  price  mileage  engineSize  Make\n",
       "0          0  2017  12500    15735         1.4     0\n",
       "1          1  2016  16500    36203         2.0     0\n",
       "2          0  2016  11000    29946         1.4     0\n",
       "3          2  2017  16800    25952         2.0     0\n",
       "4          3  2019  17300     1998         1.0     0\n",
       "...      ...   ...    ...      ...         ...   ...\n",
       "72430    134  2016   8680    25906         1.6     6\n",
       "72431    135  2015   7830    59508         1.7     6\n",
       "72432    132  2017   6830    13810         1.0     6\n",
       "72433    131  2018  13994    23313         1.6     6\n",
       "72434    131  2016  15999    11472         1.7     6\n",
       "\n",
       "[72435 rows x 6 columns]"
      ]
     },
     "execution_count": 126,
     "metadata": {},
     "output_type": "execute_result"
    }
   ],
   "source": [
    "df"
   ]
  },
  {
   "cell_type": "code",
   "execution_count": 127,
   "metadata": {},
   "outputs": [],
   "source": [
    "df.to_csv(\"cars_dataset_depurado.csv\",index=False)"
   ]
  },
  {
   "cell_type": "markdown",
   "metadata": {},
   "source": [
    "Fin del primer ejercicio"
   ]
  }
 ],
 "metadata": {
  "kernelspec": {
   "display_name": "Python 3",
   "language": "python",
   "name": "python3"
  },
  "language_info": {
   "codemirror_mode": {
    "name": "ipython",
    "version": 3
   },
   "file_extension": ".py",
   "mimetype": "text/x-python",
   "name": "python",
   "nbconvert_exporter": "python",
   "pygments_lexer": "ipython3",
   "version": "3.9.6"
  }
 },
 "nbformat": 4,
 "nbformat_minor": 2
}
